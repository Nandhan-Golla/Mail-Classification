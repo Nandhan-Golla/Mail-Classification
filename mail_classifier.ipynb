{
  "nbformat": 4,
  "nbformat_minor": 0,
  "metadata": {
    "colab": {
      "private_outputs": true,
      "provenance": []
    },
    "kernelspec": {
      "name": "python3",
      "display_name": "Python 3"
    },
    "language_info": {
      "name": "python"
    }
  },
  "cells": [
    {
      "cell_type": "code",
      "execution_count": null,
      "metadata": {
        "id": "1WzC37Z71DAp"
      },
      "outputs": [],
      "source": [
        "import numpy as np\n",
        "from sklearn.feature_extraction.text import TfidfVectorizer\n",
        "from sklearn.model_selection import train_test_split\n",
        "from sklearn.metrics import accuracy_score\n",
        "import pandas as pd\n"
      ]
    },
    {
      "cell_type": "code",
      "source": [
        "data = pd.DataFrame(pd.read_csv('/content/drive/MyDrive/Robot-Work/mail_data.csv')) ## Get ur Own DataSet of Spam Mail Dataset from Kaggle"
      ],
      "metadata": {
        "id": "8SVo93Se1Mie"
      },
      "execution_count": null,
      "outputs": []
    },
    {
      "cell_type": "code",
      "source": [
        "mail = data.where(pd.notnull(data), '')"
      ],
      "metadata": {
        "id": "b5PQ_sSMAUma"
      },
      "execution_count": null,
      "outputs": []
    },
    {
      "cell_type": "code",
      "source": [
        "mail.loc[mail['Category'] == 'spam', 'Category'] = 0\n",
        "mail.loc[mail['Category'] == 'ham', 'Category'] = 1"
      ],
      "metadata": {
        "id": "AR1vxEmDAyO5"
      },
      "execution_count": null,
      "outputs": []
    },
    {
      "cell_type": "code",
      "source": [
        "tc = TfidfVectorizer(min_df=1, stop_words='english', lowercase=True)\n"
      ],
      "metadata": {
        "id": "L8vTZtoNBLZy"
      },
      "execution_count": null,
      "outputs": []
    },
    {
      "cell_type": "code",
      "source": [
        "X, y = mail['Message'], mail['Category']"
      ],
      "metadata": {
        "id": "aScpLe5fB3Ud"
      },
      "execution_count": null,
      "outputs": []
    },
    {
      "cell_type": "code",
      "source": [
        "X_train, X_test, y_train, y_test = train_test_split(X,y,test_size=0.3,random_state=42)\n",
        "tc.fit(X_train)\n",
        "\n",
        "X_train = tc.transform(X_train)\n",
        "\n",
        "tc.fit(X_test)\n",
        "\n",
        "X_test = tc.transform(X_test)\n"
      ],
      "metadata": {
        "id": "9onhrf7QB-rP"
      },
      "execution_count": null,
      "outputs": []
    },
    {
      "cell_type": "code",
      "source": [
        "class classifier:\n",
        "  def __init__(self,learning_rate=0.001,epochs=2000):\n",
        "    self.learning_rate = learning_rate\n",
        "    self.epochs = epochs\n",
        "    self.weights = None\n",
        "    self.bais = None\n",
        "\n",
        "  def fit(self,X,y):\n",
        "    features = X.shape[0]\n",
        "    self.weights = np.zeros(features)\n",
        "    self.bais = 0\n",
        "\n",
        "    for _ in range(self.epochs):\n",
        "      l_fx = np.dot(X,self.weights) + self.bais\n",
        "      y_prdt = 1/(1+np.exp(-(l_fx)))\n",
        "\n",
        "      dw= (1/features)*np.dot(X, (y_prdt-y))\n",
        "      db = (1/features)*np.sum((y_prdt - y))\n",
        "\n",
        "    print(f\"Parametr updates = {self.weights},{self.bais}\")\n",
        "    return self.weights, self.bais\n",
        "\n",
        "  def predict(self,x):\n",
        "    l_fx = np.dot(x,self.weights) + self.bais\n",
        "    y_prdt = 1/(1+np.exp(-l_fx))\n",
        "\n",
        "    predictiton = [0 if y<=0.5 else 1 for y in y_prdt]\n",
        "    return prediction"
      ],
      "metadata": {
        "id": "QOVKUAtjCXUc"
      },
      "execution_count": null,
      "outputs": []
    },
    {
      "cell_type": "code",
      "source": [
        "model = classifier(learning_rate=0.1,epochs=100)\n",
        "model.fit(X_train.data[:3900],y_train)\n",
        "\n",
        "result = model.predict(X_test.data[:3900])\n",
        "\n",
        "r = np.array(result)\n",
        "\n",
        "print(r)"
      ],
      "metadata": {
        "id": "R2s4NAZzeRkM"
      },
      "execution_count": null,
      "outputs": []
    }
  ]
}